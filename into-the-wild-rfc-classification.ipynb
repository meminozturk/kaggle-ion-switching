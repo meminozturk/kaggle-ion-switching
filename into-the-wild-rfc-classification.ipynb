{
 "cells": [
  {
   "cell_type": "code",
   "execution_count": 1,
   "metadata": {
    "_cell_guid": "b1076dfc-b9ad-4769-8c92-a6c4dae69d19",
    "_uuid": "8f2839f25d086af736a60e9eeb907d3b93b6e0e5"
   },
   "outputs": [],
   "source": [
    "import numpy as np\n",
    "import pandas as pd\n",
    "import gc\n",
    "\n",
    "df = pd.read_csv(\"../input/remove-trends-giba/train_clean_giba.csv\").sort_values(\"time\").reset_index(drop=True)\n",
    "test_df = pd.read_csv(\"../input/remove-trends-giba/test_clean_giba.csv\").sort_values(\"time\").reset_index(drop=True)"
   ]
  },
  {
   "cell_type": "code",
   "execution_count": 2,
   "metadata": {},
   "outputs": [
    {
     "data": {
      "text/plain": [
       "9    500000\n",
       "8    500000\n",
       "7    500000\n",
       "6    500000\n",
       "5    500000\n",
       "4    500000\n",
       "3    500000\n",
       "2    500000\n",
       "1    500000\n",
       "0    500000\n",
       "Name: group, dtype: int64"
      ]
     },
     "execution_count": 2,
     "metadata": {},
     "output_type": "execute_result"
    }
   ],
   "source": [
    "df[\"group\"] = np.arange(df.shape[0])//500_000\n",
    "df[\"batch\"] = np.arange(df.shape[0])//100_000\n",
    "df[\"group\"].value_counts()"
   ]
  },
  {
   "cell_type": "code",
   "execution_count": 3,
   "metadata": {},
   "outputs": [],
   "source": [
    "df[\"category\"] = 0\n",
    "test_df[\"category\"] = 0\n",
    "\n",
    "# train segments with more then 9 open channels classes\n",
    "df.loc[2_000_000:2_500_000-1, 'category'] = 1\n",
    "df.loc[4_500_000:5_000_000-1, 'category'] = 1\n",
    "\n",
    "# test segments with more then 9 open channels classes (potentially)\n",
    "test_df.loc[500_000:600_000-1, \"category\"] = 1\n",
    "test_df.loc[700_000:800_000-1, \"category\"] = 1"
   ]
  },
  {
   "cell_type": "code",
   "execution_count": 4,
   "metadata": {},
   "outputs": [
    {
     "data": {
      "text/plain": [
       "0"
      ]
     },
     "execution_count": 4,
     "metadata": {},
     "output_type": "execute_result"
    }
   ],
   "source": [
    "TARGET = \"open_channels\"\n",
    "\n",
    "aug_df = df[df[\"group\"] == 5].copy()\n",
    "aug_df[\"category\"] = 1\n",
    "aug_df[\"group\"] = 10\n",
    "\n",
    "for col in [\"signal\", TARGET]:\n",
    "    aug_df[col] += df[df[\"group\"] == 8][col].values\n",
    "    \n",
    "df = df.append(aug_df, sort=False).reset_index(drop=True)\n",
    "\n",
    "del aug_df\n",
    "gc.collect()"
   ]
  },
  {
   "cell_type": "code",
   "execution_count": 5,
   "metadata": {},
   "outputs": [
    {
     "data": {
      "text/html": [
       "<div>\n",
       "<style scoped>\n",
       "    .dataframe tbody tr th:only-of-type {\n",
       "        vertical-align: middle;\n",
       "    }\n",
       "\n",
       "    .dataframe tbody tr th {\n",
       "        vertical-align: top;\n",
       "    }\n",
       "\n",
       "    .dataframe thead th {\n",
       "        text-align: right;\n",
       "    }\n",
       "</style>\n",
       "<table border=\"1\" class=\"dataframe\">\n",
       "  <thead>\n",
       "    <tr style=\"text-align: right;\">\n",
       "      <th></th>\n",
       "      <th>std</th>\n",
       "      <th>mean</th>\n",
       "    </tr>\n",
       "    <tr>\n",
       "      <th>group</th>\n",
       "      <th></th>\n",
       "      <th></th>\n",
       "    </tr>\n",
       "  </thead>\n",
       "  <tbody>\n",
       "    <tr>\n",
       "      <th>0</th>\n",
       "      <td>0.262200</td>\n",
       "      <td>0.031618</td>\n",
       "    </tr>\n",
       "    <tr>\n",
       "      <th>1</th>\n",
       "      <td>0.275160</td>\n",
       "      <td>0.038450</td>\n",
       "    </tr>\n",
       "    <tr>\n",
       "      <th>2</th>\n",
       "      <td>0.471509</td>\n",
       "      <td>0.747920</td>\n",
       "    </tr>\n",
       "    <tr>\n",
       "      <th>3</th>\n",
       "      <td>0.801176</td>\n",
       "      <td>2.147772</td>\n",
       "    </tr>\n",
       "    <tr>\n",
       "      <th>4</th>\n",
       "      <td>1.452549</td>\n",
       "      <td>7.129406</td>\n",
       "    </tr>\n",
       "    <tr>\n",
       "      <th>5</th>\n",
       "      <td>1.021415</td>\n",
       "      <td>3.576812</td>\n",
       "    </tr>\n",
       "    <tr>\n",
       "      <th>6</th>\n",
       "      <td>0.468368</td>\n",
       "      <td>0.753886</td>\n",
       "    </tr>\n",
       "    <tr>\n",
       "      <th>7</th>\n",
       "      <td>0.811309</td>\n",
       "      <td>2.134940</td>\n",
       "    </tr>\n",
       "    <tr>\n",
       "      <th>8</th>\n",
       "      <td>1.026026</td>\n",
       "      <td>3.570526</td>\n",
       "    </tr>\n",
       "    <tr>\n",
       "      <th>9</th>\n",
       "      <td>1.453593</td>\n",
       "      <td>7.094024</td>\n",
       "    </tr>\n",
       "    <tr>\n",
       "      <th>10</th>\n",
       "      <td>1.451994</td>\n",
       "      <td>7.147338</td>\n",
       "    </tr>\n",
       "  </tbody>\n",
       "</table>\n",
       "</div>"
      ],
      "text/plain": [
       "            std      mean\n",
       "group                    \n",
       "0      0.262200  0.031618\n",
       "1      0.275160  0.038450\n",
       "2      0.471509  0.747920\n",
       "3      0.801176  2.147772\n",
       "4      1.452549  7.129406\n",
       "5      1.021415  3.576812\n",
       "6      0.468368  0.753886\n",
       "7      0.811309  2.134940\n",
       "8      1.026026  3.570526\n",
       "9      1.453593  7.094024\n",
       "10     1.451994  7.147338"
      ]
     },
     "execution_count": 5,
     "metadata": {},
     "output_type": "execute_result"
    }
   ],
   "source": [
    "df.groupby(\"group\")[\"signal\"].agg({\"mean\", \"std\"})"
   ]
  },
  {
   "cell_type": "code",
   "execution_count": 6,
   "metadata": {},
   "outputs": [],
   "source": [
    "df['batch'] = np.arange(df.shape[0])//100_000\n",
    "test_df['batch'] = np.arange(test_df.shape[0])//100_000\n",
    "\n",
    "shift_sizes = np.arange(1,21)\n",
    "for temp in [df,test_df]:\n",
    "    for shift_size in shift_sizes:    \n",
    "        temp['signal_shift_pos_'+str(shift_size)] = temp.groupby('batch')['signal'].shift(shift_size).fillna(-3)\n",
    "        # temp['signal_shift_pos_'+str(shift_size)] = temp.groupby(\"batch\")['signal_shift_pos_'+str(shift_size)].transform(lambda x: x.bfill())\n",
    "        temp['signal_shift_neg_'+str(shift_size)] = temp.groupby('batch')['signal'].shift(-1*shift_size).fillna(-3)\n",
    "        # temp['signal_shift_neg_'+str(shift_size)] = temp.groupby(\"batch\")['signal_shift_neg_'+str(shift_size)].transform(lambda x: x.ffill())"
   ]
  },
  {
   "cell_type": "code",
   "execution_count": 7,
   "metadata": {},
   "outputs": [
    {
     "data": {
      "text/html": [
       "<div>\n",
       "<style scoped>\n",
       "    .dataframe tbody tr th:only-of-type {\n",
       "        vertical-align: middle;\n",
       "    }\n",
       "\n",
       "    .dataframe tbody tr th {\n",
       "        vertical-align: top;\n",
       "    }\n",
       "\n",
       "    .dataframe thead th {\n",
       "        text-align: right;\n",
       "    }\n",
       "</style>\n",
       "<table border=\"1\" class=\"dataframe\">\n",
       "  <thead>\n",
       "    <tr style=\"text-align: right;\">\n",
       "      <th></th>\n",
       "      <th>signal</th>\n",
       "      <th>signal_shift_pos_1</th>\n",
       "      <th>signal_shift_neg_1</th>\n",
       "      <th>signal_shift_pos_2</th>\n",
       "      <th>signal_shift_neg_2</th>\n",
       "      <th>signal_shift_pos_3</th>\n",
       "      <th>signal_shift_neg_3</th>\n",
       "      <th>signal_shift_pos_4</th>\n",
       "      <th>signal_shift_neg_4</th>\n",
       "      <th>signal_shift_pos_5</th>\n",
       "      <th>...</th>\n",
       "      <th>signal_shift_pos_16</th>\n",
       "      <th>signal_shift_neg_16</th>\n",
       "      <th>signal_shift_pos_17</th>\n",
       "      <th>signal_shift_neg_17</th>\n",
       "      <th>signal_shift_pos_18</th>\n",
       "      <th>signal_shift_neg_18</th>\n",
       "      <th>signal_shift_pos_19</th>\n",
       "      <th>signal_shift_neg_19</th>\n",
       "      <th>signal_shift_pos_20</th>\n",
       "      <th>signal_shift_neg_20</th>\n",
       "    </tr>\n",
       "  </thead>\n",
       "  <tbody>\n",
       "    <tr>\n",
       "      <th>0</th>\n",
       "      <td>-0.036510</td>\n",
       "      <td>-3.000000</td>\n",
       "      <td>-0.113152</td>\n",
       "      <td>-3.000000</td>\n",
       "      <td>0.245390</td>\n",
       "      <td>-3.000000</td>\n",
       "      <td>-0.341122</td>\n",
       "      <td>-3.00000</td>\n",
       "      <td>-0.350929</td>\n",
       "      <td>-3.0</td>\n",
       "      <td>...</td>\n",
       "      <td>-3.0</td>\n",
       "      <td>-0.170745</td>\n",
       "      <td>-3.0</td>\n",
       "      <td>0.006632</td>\n",
       "      <td>-3.0</td>\n",
       "      <td>0.314478</td>\n",
       "      <td>-3.0</td>\n",
       "      <td>-0.225048</td>\n",
       "      <td>-3.0</td>\n",
       "      <td>-0.385705</td>\n",
       "    </tr>\n",
       "    <tr>\n",
       "      <th>1</th>\n",
       "      <td>-0.113152</td>\n",
       "      <td>-0.036510</td>\n",
       "      <td>0.245390</td>\n",
       "      <td>-3.000000</td>\n",
       "      <td>-0.341122</td>\n",
       "      <td>-3.000000</td>\n",
       "      <td>-0.350929</td>\n",
       "      <td>-3.00000</td>\n",
       "      <td>0.057489</td>\n",
       "      <td>-3.0</td>\n",
       "      <td>...</td>\n",
       "      <td>-3.0</td>\n",
       "      <td>0.006632</td>\n",
       "      <td>-3.0</td>\n",
       "      <td>0.314478</td>\n",
       "      <td>-3.0</td>\n",
       "      <td>-0.225048</td>\n",
       "      <td>-3.0</td>\n",
       "      <td>-0.385705</td>\n",
       "      <td>-3.0</td>\n",
       "      <td>-0.270212</td>\n",
       "    </tr>\n",
       "    <tr>\n",
       "      <th>2</th>\n",
       "      <td>0.245390</td>\n",
       "      <td>-0.113152</td>\n",
       "      <td>-0.341122</td>\n",
       "      <td>-0.036510</td>\n",
       "      <td>-0.350929</td>\n",
       "      <td>-3.000000</td>\n",
       "      <td>0.057489</td>\n",
       "      <td>-3.00000</td>\n",
       "      <td>0.011333</td>\n",
       "      <td>-3.0</td>\n",
       "      <td>...</td>\n",
       "      <td>-3.0</td>\n",
       "      <td>0.314478</td>\n",
       "      <td>-3.0</td>\n",
       "      <td>-0.225048</td>\n",
       "      <td>-3.0</td>\n",
       "      <td>-0.385705</td>\n",
       "      <td>-3.0</td>\n",
       "      <td>-0.270212</td>\n",
       "      <td>-3.0</td>\n",
       "      <td>-0.119530</td>\n",
       "    </tr>\n",
       "    <tr>\n",
       "      <th>3</th>\n",
       "      <td>-0.341122</td>\n",
       "      <td>0.245390</td>\n",
       "      <td>-0.350929</td>\n",
       "      <td>-0.113152</td>\n",
       "      <td>0.057489</td>\n",
       "      <td>-0.036510</td>\n",
       "      <td>0.011333</td>\n",
       "      <td>-3.00000</td>\n",
       "      <td>0.095803</td>\n",
       "      <td>-3.0</td>\n",
       "      <td>...</td>\n",
       "      <td>-3.0</td>\n",
       "      <td>-0.225048</td>\n",
       "      <td>-3.0</td>\n",
       "      <td>-0.385705</td>\n",
       "      <td>-3.0</td>\n",
       "      <td>-0.270212</td>\n",
       "      <td>-3.0</td>\n",
       "      <td>-0.119530</td>\n",
       "      <td>-3.0</td>\n",
       "      <td>-0.396299</td>\n",
       "    </tr>\n",
       "    <tr>\n",
       "      <th>4</th>\n",
       "      <td>-0.350929</td>\n",
       "      <td>-0.341122</td>\n",
       "      <td>0.057489</td>\n",
       "      <td>0.245390</td>\n",
       "      <td>0.011333</td>\n",
       "      <td>-0.113152</td>\n",
       "      <td>0.095803</td>\n",
       "      <td>-0.03651</td>\n",
       "      <td>0.035858</td>\n",
       "      <td>-3.0</td>\n",
       "      <td>...</td>\n",
       "      <td>-3.0</td>\n",
       "      <td>-0.385705</td>\n",
       "      <td>-3.0</td>\n",
       "      <td>-0.270212</td>\n",
       "      <td>-3.0</td>\n",
       "      <td>-0.119530</td>\n",
       "      <td>-3.0</td>\n",
       "      <td>-0.396299</td>\n",
       "      <td>-3.0</td>\n",
       "      <td>0.119804</td>\n",
       "    </tr>\n",
       "  </tbody>\n",
       "</table>\n",
       "<p>5 rows × 41 columns</p>\n",
       "</div>"
      ],
      "text/plain": [
       "     signal  signal_shift_pos_1  signal_shift_neg_1  signal_shift_pos_2  \\\n",
       "0 -0.036510           -3.000000           -0.113152           -3.000000   \n",
       "1 -0.113152           -0.036510            0.245390           -3.000000   \n",
       "2  0.245390           -0.113152           -0.341122           -0.036510   \n",
       "3 -0.341122            0.245390           -0.350929           -0.113152   \n",
       "4 -0.350929           -0.341122            0.057489            0.245390   \n",
       "\n",
       "   signal_shift_neg_2  signal_shift_pos_3  signal_shift_neg_3  \\\n",
       "0            0.245390           -3.000000           -0.341122   \n",
       "1           -0.341122           -3.000000           -0.350929   \n",
       "2           -0.350929           -3.000000            0.057489   \n",
       "3            0.057489           -0.036510            0.011333   \n",
       "4            0.011333           -0.113152            0.095803   \n",
       "\n",
       "   signal_shift_pos_4  signal_shift_neg_4  signal_shift_pos_5  ...  \\\n",
       "0            -3.00000           -0.350929                -3.0  ...   \n",
       "1            -3.00000            0.057489                -3.0  ...   \n",
       "2            -3.00000            0.011333                -3.0  ...   \n",
       "3            -3.00000            0.095803                -3.0  ...   \n",
       "4            -0.03651            0.035858                -3.0  ...   \n",
       "\n",
       "   signal_shift_pos_16  signal_shift_neg_16  signal_shift_pos_17  \\\n",
       "0                 -3.0            -0.170745                 -3.0   \n",
       "1                 -3.0             0.006632                 -3.0   \n",
       "2                 -3.0             0.314478                 -3.0   \n",
       "3                 -3.0            -0.225048                 -3.0   \n",
       "4                 -3.0            -0.385705                 -3.0   \n",
       "\n",
       "   signal_shift_neg_17  signal_shift_pos_18  signal_shift_neg_18  \\\n",
       "0             0.006632                 -3.0             0.314478   \n",
       "1             0.314478                 -3.0            -0.225048   \n",
       "2            -0.225048                 -3.0            -0.385705   \n",
       "3            -0.385705                 -3.0            -0.270212   \n",
       "4            -0.270212                 -3.0            -0.119530   \n",
       "\n",
       "   signal_shift_pos_19  signal_shift_neg_19  signal_shift_pos_20  \\\n",
       "0                 -3.0            -0.225048                 -3.0   \n",
       "1                 -3.0            -0.385705                 -3.0   \n",
       "2                 -3.0            -0.270212                 -3.0   \n",
       "3                 -3.0            -0.119530                 -3.0   \n",
       "4                 -3.0            -0.396299                 -3.0   \n",
       "\n",
       "   signal_shift_neg_20  \n",
       "0            -0.385705  \n",
       "1            -0.270212  \n",
       "2            -0.119530  \n",
       "3            -0.396299  \n",
       "4             0.119804  \n",
       "\n",
       "[5 rows x 41 columns]"
      ]
     },
     "execution_count": 7,
     "metadata": {},
     "output_type": "execute_result"
    }
   ],
   "source": [
    "remove_fea=['time','batch','batch_index','batch_slices','batch_slices2','group',\"open_channels\",\"type\",\"category\"]\n",
    "features=[i for i in df.columns if i not in remove_fea]\n",
    "df[features].head()"
   ]
  },
  {
   "cell_type": "code",
   "execution_count": 8,
   "metadata": {},
   "outputs": [
    {
     "name": "stdout",
     "output_type": "stream",
     "text": [
      "4400000 1100000\n"
     ]
    },
    {
     "name": "stderr",
     "output_type": "stream",
     "text": [
      "[Parallel(n_jobs=-1)]: Using backend ThreadingBackend with 4 concurrent workers.\n",
      "[Parallel(n_jobs=-1)]: Done  42 tasks      | elapsed: 11.3min\n",
      "[Parallel(n_jobs=-1)]: Done 150 out of 150 | elapsed: 40.1min finished\n",
      "[Parallel(n_jobs=4)]: Using backend ThreadingBackend with 4 concurrent workers.\n",
      "[Parallel(n_jobs=4)]: Done  42 tasks      | elapsed:    2.1s\n",
      "[Parallel(n_jobs=4)]: Done 150 out of 150 | elapsed:    7.4s finished\n",
      "[Parallel(n_jobs=4)]: Using backend ThreadingBackend with 4 concurrent workers.\n",
      "[Parallel(n_jobs=4)]: Done  42 tasks      | elapsed:    4.1s\n",
      "[Parallel(n_jobs=4)]: Done 150 out of 150 | elapsed:   13.8s finished\n",
      "[Parallel(n_jobs=-1)]: Using backend ThreadingBackend with 4 concurrent workers.\n",
      "[Parallel(n_jobs=-1)]: Done  42 tasks      | elapsed:  3.9min\n",
      "[Parallel(n_jobs=-1)]: Done 150 out of 150 | elapsed: 13.3min finished\n",
      "[Parallel(n_jobs=4)]: Using backend ThreadingBackend with 4 concurrent workers.\n",
      "[Parallel(n_jobs=4)]: Done  42 tasks      | elapsed:    1.5s\n",
      "[Parallel(n_jobs=4)]: Done 150 out of 150 | elapsed:    5.5s finished\n",
      "[Parallel(n_jobs=4)]: Using backend ThreadingBackend with 4 concurrent workers.\n",
      "[Parallel(n_jobs=4)]: Done  42 tasks      | elapsed:    1.0s\n",
      "[Parallel(n_jobs=4)]: Done 150 out of 150 | elapsed:    3.7s finished\n"
     ]
    },
    {
     "name": "stdout",
     "output_type": "stream",
     "text": [
      "4400000 1100000\n"
     ]
    },
    {
     "name": "stderr",
     "output_type": "stream",
     "text": [
      "[Parallel(n_jobs=-1)]: Using backend ThreadingBackend with 4 concurrent workers.\n",
      "[Parallel(n_jobs=-1)]: Done  42 tasks      | elapsed: 11.1min\n",
      "[Parallel(n_jobs=-1)]: Done 150 out of 150 | elapsed: 39.2min finished\n",
      "[Parallel(n_jobs=4)]: Using backend ThreadingBackend with 4 concurrent workers.\n",
      "[Parallel(n_jobs=4)]: Done  42 tasks      | elapsed:    2.1s\n",
      "[Parallel(n_jobs=4)]: Done 150 out of 150 | elapsed:    6.9s finished\n",
      "[Parallel(n_jobs=4)]: Using backend ThreadingBackend with 4 concurrent workers.\n",
      "[Parallel(n_jobs=4)]: Done  42 tasks      | elapsed:    4.1s\n",
      "[Parallel(n_jobs=4)]: Done 150 out of 150 | elapsed:   13.8s finished\n",
      "[Parallel(n_jobs=-1)]: Using backend ThreadingBackend with 4 concurrent workers.\n",
      "[Parallel(n_jobs=-1)]: Done  42 tasks      | elapsed:  3.9min\n",
      "[Parallel(n_jobs=-1)]: Done 150 out of 150 | elapsed: 13.4min finished\n",
      "[Parallel(n_jobs=4)]: Using backend ThreadingBackend with 4 concurrent workers.\n",
      "[Parallel(n_jobs=4)]: Done  42 tasks      | elapsed:    1.6s\n",
      "[Parallel(n_jobs=4)]: Done 150 out of 150 | elapsed:    6.1s finished\n",
      "[Parallel(n_jobs=4)]: Using backend ThreadingBackend with 4 concurrent workers.\n",
      "[Parallel(n_jobs=4)]: Done  42 tasks      | elapsed:    1.0s\n",
      "[Parallel(n_jobs=4)]: Done 150 out of 150 | elapsed:    3.4s finished\n"
     ]
    },
    {
     "name": "stdout",
     "output_type": "stream",
     "text": [
      "4400000 1100000\n"
     ]
    },
    {
     "name": "stderr",
     "output_type": "stream",
     "text": [
      "[Parallel(n_jobs=-1)]: Using backend ThreadingBackend with 4 concurrent workers.\n",
      "[Parallel(n_jobs=-1)]: Done  42 tasks      | elapsed: 11.2min\n",
      "[Parallel(n_jobs=-1)]: Done 150 out of 150 | elapsed: 39.9min finished\n",
      "[Parallel(n_jobs=4)]: Using backend ThreadingBackend with 4 concurrent workers.\n",
      "[Parallel(n_jobs=4)]: Done  42 tasks      | elapsed:    2.0s\n",
      "[Parallel(n_jobs=4)]: Done 150 out of 150 | elapsed:    7.1s finished\n",
      "[Parallel(n_jobs=4)]: Using backend ThreadingBackend with 4 concurrent workers.\n",
      "[Parallel(n_jobs=4)]: Done  42 tasks      | elapsed:    4.1s\n",
      "[Parallel(n_jobs=4)]: Done 150 out of 150 | elapsed:   13.8s finished\n",
      "[Parallel(n_jobs=-1)]: Using backend ThreadingBackend with 4 concurrent workers.\n",
      "[Parallel(n_jobs=-1)]: Done  42 tasks      | elapsed:  3.9min\n",
      "[Parallel(n_jobs=-1)]: Done 150 out of 150 | elapsed: 13.2min finished\n",
      "[Parallel(n_jobs=4)]: Using backend ThreadingBackend with 4 concurrent workers.\n",
      "[Parallel(n_jobs=4)]: Done  42 tasks      | elapsed:    1.4s\n",
      "[Parallel(n_jobs=4)]: Done 150 out of 150 | elapsed:    4.9s finished\n",
      "[Parallel(n_jobs=4)]: Using backend ThreadingBackend with 4 concurrent workers.\n",
      "[Parallel(n_jobs=4)]: Done  42 tasks      | elapsed:    1.0s\n",
      "[Parallel(n_jobs=4)]: Done 150 out of 150 | elapsed:    3.4s finished\n"
     ]
    },
    {
     "name": "stdout",
     "output_type": "stream",
     "text": [
      "4400000 1100000\n"
     ]
    },
    {
     "name": "stderr",
     "output_type": "stream",
     "text": [
      "[Parallel(n_jobs=-1)]: Using backend ThreadingBackend with 4 concurrent workers.\n",
      "[Parallel(n_jobs=-1)]: Done  42 tasks      | elapsed: 10.9min\n",
      "[Parallel(n_jobs=-1)]: Done 150 out of 150 | elapsed: 39.5min finished\n",
      "[Parallel(n_jobs=4)]: Using backend ThreadingBackend with 4 concurrent workers.\n",
      "[Parallel(n_jobs=4)]: Done  42 tasks      | elapsed:    2.1s\n",
      "[Parallel(n_jobs=4)]: Done 150 out of 150 | elapsed:    7.2s finished\n",
      "[Parallel(n_jobs=4)]: Using backend ThreadingBackend with 4 concurrent workers.\n",
      "[Parallel(n_jobs=4)]: Done  42 tasks      | elapsed:    4.2s\n",
      "[Parallel(n_jobs=4)]: Done 150 out of 150 | elapsed:   13.9s finished\n",
      "[Parallel(n_jobs=-1)]: Using backend ThreadingBackend with 4 concurrent workers.\n",
      "[Parallel(n_jobs=-1)]: Done  42 tasks      | elapsed:  3.8min\n",
      "[Parallel(n_jobs=-1)]: Done 150 out of 150 | elapsed: 13.3min finished\n",
      "[Parallel(n_jobs=4)]: Using backend ThreadingBackend with 4 concurrent workers.\n",
      "[Parallel(n_jobs=4)]: Done  42 tasks      | elapsed:    1.4s\n",
      "[Parallel(n_jobs=4)]: Done 150 out of 150 | elapsed:    5.0s finished\n",
      "[Parallel(n_jobs=4)]: Using backend ThreadingBackend with 4 concurrent workers.\n",
      "[Parallel(n_jobs=4)]: Done  42 tasks      | elapsed:    1.0s\n",
      "[Parallel(n_jobs=4)]: Done 150 out of 150 | elapsed:    3.3s finished\n"
     ]
    },
    {
     "name": "stdout",
     "output_type": "stream",
     "text": [
      "4400000 1100000\n"
     ]
    },
    {
     "name": "stderr",
     "output_type": "stream",
     "text": [
      "[Parallel(n_jobs=-1)]: Using backend ThreadingBackend with 4 concurrent workers.\n",
      "[Parallel(n_jobs=-1)]: Done  42 tasks      | elapsed: 11.4min\n",
      "[Parallel(n_jobs=-1)]: Done 150 out of 150 | elapsed: 39.9min finished\n",
      "[Parallel(n_jobs=4)]: Using backend ThreadingBackend with 4 concurrent workers.\n",
      "[Parallel(n_jobs=4)]: Done  42 tasks      | elapsed:    2.1s\n",
      "[Parallel(n_jobs=4)]: Done 150 out of 150 | elapsed:    7.1s finished\n",
      "[Parallel(n_jobs=4)]: Using backend ThreadingBackend with 4 concurrent workers.\n",
      "[Parallel(n_jobs=4)]: Done  42 tasks      | elapsed:    4.2s\n",
      "[Parallel(n_jobs=4)]: Done 150 out of 150 | elapsed:   13.9s finished\n",
      "[Parallel(n_jobs=-1)]: Using backend ThreadingBackend with 4 concurrent workers.\n",
      "[Parallel(n_jobs=-1)]: Done  42 tasks      | elapsed:  3.8min\n",
      "[Parallel(n_jobs=-1)]: Done 150 out of 150 | elapsed: 13.3min finished\n",
      "[Parallel(n_jobs=4)]: Using backend ThreadingBackend with 4 concurrent workers.\n",
      "[Parallel(n_jobs=4)]: Done  42 tasks      | elapsed:    1.5s\n",
      "[Parallel(n_jobs=4)]: Done 150 out of 150 | elapsed:    5.3s finished\n",
      "[Parallel(n_jobs=4)]: Using backend ThreadingBackend with 4 concurrent workers.\n",
      "[Parallel(n_jobs=4)]: Done  42 tasks      | elapsed:    1.0s\n",
      "[Parallel(n_jobs=4)]: Done 150 out of 150 | elapsed:    3.4s finished\n"
     ]
    }
   ],
   "source": [
    "from sklearn.ensemble import RandomForestClassifier\n",
    "from sklearn.model_selection import StratifiedKFold, GroupKFold\n",
    "\n",
    "NUM_FOLDS = 5\n",
    "oof_preds = np.zeros((len(df), 11))\n",
    "y_test = np.zeros((len(test_df), 11))\n",
    "\n",
    "target = \"open_channels\"\n",
    "df['group'] = np.arange(df.shape[0])//4000\n",
    "group = df['group']\n",
    "kf = GroupKFold(n_splits=NUM_FOLDS)\n",
    "splits = [x for x in kf.split(df, df[\"open_channels\"], group)]\n",
    "            \n",
    "for train_ind, val_ind in splits:\n",
    "    train_df, val_df = df.iloc[train_ind], df.iloc[val_ind]\n",
    "    print(len(train_df), len(val_df))\n",
    "\n",
    "    for cat in range(2):\n",
    "        model = RandomForestClassifier(\n",
    "                n_estimators=150,\n",
    "                max_samples=0.5,\n",
    "                max_depth=17,\n",
    "                max_features=10,\n",
    "                min_samples_leaf=10,\n",
    "                random_state=42,\n",
    "                n_jobs=-1,\n",
    "                verbose=1\n",
    "            )\n",
    "        \n",
    "        fit_df = train_df[train_df[\"category\"] == cat]\n",
    "        y = fit_df[TARGET].values\n",
    "        y[y.argmin()] = 0 # hack to have 11 class in each fold\n",
    "        \n",
    "        model.fit(fit_df[features], y)\n",
    "        \n",
    "        pred = model.predict_proba(val_df[val_df[\"category\"] == cat][features])\n",
    "        oof_preds[val_ind[np.where(val_df[\"category\"].values == cat)[0]], :pred.shape[1]] = pred\n",
    "        \n",
    "        y_test[np.where(test_df[\"category\"].values == cat)[0], :pred.shape[1]] += model.predict_proba(test_df[test_df[\"category\"] == cat][features])/NUM_FOLDS"
   ]
  },
  {
   "cell_type": "code",
   "execution_count": 9,
   "metadata": {},
   "outputs": [
    {
     "data": {
      "text/plain": [
       "0.9395655370595182"
      ]
     },
     "execution_count": 9,
     "metadata": {},
     "output_type": "execute_result"
    }
   ],
   "source": [
    "from sklearn.metrics import f1_score\n",
    "\n",
    "f1_score(df[\"open_channels\"], oof_preds.argmax(axis=1), average=\"macro\")"
   ]
  },
  {
   "cell_type": "code",
   "execution_count": 10,
   "metadata": {},
   "outputs": [
    {
     "data": {
      "text/plain": [
       "0.9405664583930242"
      ]
     },
     "execution_count": 10,
     "metadata": {},
     "output_type": "execute_result"
    }
   ],
   "source": [
    "oof_f1 = f1_score(df[\"open_channels\"].iloc[:5000_000], oof_preds[:5000_000].argmax(axis=1), average=\"macro\")\n",
    "oof_f1"
   ]
  },
  {
   "cell_type": "code",
   "execution_count": 11,
   "metadata": {},
   "outputs": [
    {
     "data": {
      "text/plain": [
       "0     0.349160\n",
       "1     0.187025\n",
       "3     0.113237\n",
       "2     0.091458\n",
       "4     0.067930\n",
       "5     0.047083\n",
       "7     0.043292\n",
       "8     0.040782\n",
       "6     0.030890\n",
       "9     0.022967\n",
       "10    0.006177\n",
       "Name: open_channels, dtype: float64"
      ]
     },
     "execution_count": 11,
     "metadata": {},
     "output_type": "execute_result"
    }
   ],
   "source": [
    "test_df[TARGET] = y_test.argmax(axis=1)\n",
    "test_df.iloc[:600_000][TARGET].value_counts()/600_000"
   ]
  },
  {
   "cell_type": "code",
   "execution_count": 12,
   "metadata": {},
   "outputs": [
    {
     "name": "stdout",
     "output_type": "stream",
     "text": [
      "1.3824545\n"
     ]
    },
    {
     "data": {
      "text/plain": [
       "0     1220578\n",
       "1      216601\n",
       "3      135062\n",
       "2      117320\n",
       "4       80598\n",
       "5       55825\n",
       "7       52690\n",
       "8       49562\n",
       "6       37085\n",
       "9       27661\n",
       "10       7018\n",
       "Name: open_channels, dtype: int64"
      ]
     },
     "execution_count": 12,
     "metadata": {},
     "output_type": "execute_result"
    }
   ],
   "source": [
    "np.savez_compressed('rfc_clf.npz',valid=oof_preds, test=y_test)\n",
    "test_df.to_csv(f'submission.csv', index=False, float_format='%.4f', columns=[\"time\", TARGET])\n",
    "print(test_df[\"open_channels\"].mean())\n",
    "test_df[\"open_channels\"].value_counts()"
   ]
  }
 ],
 "metadata": {
  "kernelspec": {
   "display_name": "Python 3",
   "language": "python",
   "name": "python3"
  },
  "language_info": {
   "codemirror_mode": {
    "name": "ipython",
    "version": 3
   },
   "file_extension": ".py",
   "mimetype": "text/x-python",
   "name": "python",
   "nbconvert_exporter": "python",
   "pygments_lexer": "ipython3",
   "version": "3.6.6"
  }
 },
 "nbformat": 4,
 "nbformat_minor": 4
}
